{
 "cells": [
  {
   "cell_type": "code",
   "execution_count": 30,
   "metadata": {},
   "outputs": [],
   "source": [
    "from selenium import webdriver\n",
    "import pickle as pkl\n",
    "import time\n",
    "import keyring\n",
    "import random"
   ]
  },
  {
   "cell_type": "code",
   "execution_count": 2,
   "metadata": {},
   "outputs": [],
   "source": [
    "password = keyring.get_password('gener8','josephwthomas@hotmail.co.uk')"
   ]
  },
  {
   "cell_type": "code",
   "execution_count": 3,
   "metadata": {},
   "outputs": [],
   "source": [
    "cookies = pkl.load(open('cookies.txt',mode = 'rb'))"
   ]
  },
  {
   "cell_type": "code",
   "execution_count": 4,
   "metadata": {},
   "outputs": [],
   "source": [
    "cookiedict = {}\n",
    "\n",
    "for item in cookies: # cookies currently is a list of things that look like dictionaries\n",
    "    cookiedict[dict(item)['name']] = dict(item)['value'] # we just need the names and values, and we cast them into a dict"
   ]
  },
  {
   "cell_type": "markdown",
   "metadata": {},
   "source": [
    "### login and validation"
   ]
  },
  {
   "cell_type": "code",
   "execution_count": 40,
   "metadata": {},
   "outputs": [],
   "source": [
    "options = webdriver.ChromeOptions()\n",
    "options.add_extension('Gener8_v1.2.4.crx')\n",
    "\n",
    "if 'driver' in locals(): # shutdown the driver if it's running, so you don't get many chrome windows open\n",
    "    driver.quit()\n",
    "\n",
    "driver = webdriver.Chrome(r'chromedriver.exe', options = options) # this is the application for the remote chrome webpage.\n",
    "                                    # note that this is not the same thing as chrome.exe, which is your normal chrome app\n",
    "driver.get('https://gener8ads.com/')\n",
    "\n",
    "for cookie in cookiedict.keys(): # load in cookies\n",
    "    driver.add_cookie({'name' : cookie, 'value' : cookiedict[cookie]})\n",
    "\n",
    "driver.back()\n",
    "\n",
    "\n",
    "# LOGIN TO GENER8, BY USING HTML INTERACTIONS\n",
    "login_button = driver.find_element_by_class_name(\"btn\")\n",
    "login_button.click()\n",
    "\n",
    "email_field = driver.find_element_by_name(\"email\")\n",
    "email_field.click()\n",
    "email_field.send_keys(\"josephwthomas@hotmail.co.uk\")\n",
    "\n",
    "password_field = driver.find_element_by_name(\"password\")\n",
    "password_field.click()\n",
    "password_field.send_keys(password)\n",
    "\n",
    "login_button = driver.find_element_by_class_name(\"LoginPage__LoginButton-jwKHQs.dFOcim.btn.btn-secondary\")\n",
    "login_button.click()"
   ]
  },
  {
   "cell_type": "markdown",
   "metadata": {},
   "source": [
    "### navigation and automation"
   ]
  },
  {
   "cell_type": "code",
   "execution_count": 29,
   "metadata": {},
   "outputs": [],
   "source": [
    "driver.get('https://notalwaysright.com/')"
   ]
  },
  {
   "cell_type": "code",
   "execution_count": 36,
   "metadata": {},
   "outputs": [],
   "source": [
    "for page in range(2,20):\n",
    "    driver.get(f'https://notalwaysright.com/page/{page}')\n",
    "    time.sleep(random.randint(20,90))"
   ]
  }
 ],
 "metadata": {
  "kernelspec": {
   "display_name": "Python 3",
   "language": "python",
   "name": "python3"
  },
  "language_info": {
   "codemirror_mode": {
    "name": "ipython",
    "version": 3
   },
   "file_extension": ".py",
   "mimetype": "text/x-python",
   "name": "python",
   "nbconvert_exporter": "python",
   "pygments_lexer": "ipython3",
   "version": "3.7.1"
  }
 },
 "nbformat": 4,
 "nbformat_minor": 2
}
